{
 "cells": [
  {
   "cell_type": "code",
   "execution_count": 1,
   "id": "323b27c1-0380-4f0e-baca-247a4ad130a4",
   "metadata": {},
   "outputs": [
    {
     "name": "stdout",
     "output_type": "stream",
     "text": [
      "Looking in indexes: http://mirrors.tencentyun.com/pypi/simple\n",
      "Requirement already satisfied: protobuf in /home/ubuntu/miniconda3/envs/hf/lib/python3.11/site-packages (4.25.2)\n",
      "Collecting transformers==4.30.2\n",
      "  Downloading http://mirrors.tencentyun.com/pypi/packages/5b/0b/e45d26ccd28568013523e04f325432ea88a442b4e3020b757cf4361f0120/transformers-4.30.2-py3-none-any.whl (7.2 MB)\n",
      "\u001b[2K     \u001b[90m━━━━━━━━━━━━━━━━━━━━━━━━━━━━━━━━━━━━━━━━\u001b[0m \u001b[32m7.2/7.2 MB\u001b[0m \u001b[31m6.8 MB/s\u001b[0m eta \u001b[36m0:00:00\u001b[0m00:01\u001b[0m00:01\u001b[0m0m\n",
      "\u001b[?25hCollecting cpm_kernels\n",
      "  Downloading http://mirrors.tencentyun.com/pypi/packages/af/84/1831ce6ffa87b8fd4d9673c3595d0fc4e6631c0691eb43f406d3bf89b951/cpm_kernels-1.0.11-py3-none-any.whl (416 kB)\n",
      "\u001b[2K     \u001b[90m━━━━━━━━━━━━━━━━━━━━━━━━━━━━━━━━━━━━━━━\u001b[0m \u001b[32m416.6/416.6 kB\u001b[0m \u001b[31m1.1 MB/s\u001b[0m eta \u001b[36m0:00:00\u001b[0m00:01\u001b[0m00:01\u001b[0m\n",
      "\u001b[?25hRequirement already satisfied: gradio in /home/ubuntu/miniconda3/envs/hf/lib/python3.11/site-packages (4.16.0)\n",
      "Collecting mdtex2html\n",
      "  Downloading http://mirrors.tencentyun.com/pypi/packages/ff/e8/c5fab9aa5d9254ad7c7e37d33a3c32fd49d82b4c6b54da337bbca378eb5c/mdtex2html-1.3.0-py3-none-any.whl (13 kB)\n",
      "Requirement already satisfied: sentencepiece in /home/ubuntu/miniconda3/envs/hf/lib/python3.11/site-packages (0.1.99)\n",
      "Requirement already satisfied: accelerate in /home/ubuntu/miniconda3/envs/hf/lib/python3.11/site-packages (0.26.1)\n",
      "Requirement already satisfied: filelock in /home/ubuntu/miniconda3/envs/hf/lib/python3.11/site-packages (from transformers==4.30.2) (3.13.1)\n",
      "Requirement already satisfied: huggingface-hub<1.0,>=0.14.1 in /home/ubuntu/miniconda3/envs/hf/lib/python3.11/site-packages (from transformers==4.30.2) (0.20.3)\n",
      "Requirement already satisfied: numpy>=1.17 in /home/ubuntu/miniconda3/envs/hf/lib/python3.11/site-packages (from transformers==4.30.2) (1.26.3)\n",
      "Requirement already satisfied: packaging>=20.0 in /home/ubuntu/miniconda3/envs/hf/lib/python3.11/site-packages (from transformers==4.30.2) (23.2)\n",
      "Requirement already satisfied: pyyaml>=5.1 in /home/ubuntu/miniconda3/envs/hf/lib/python3.11/site-packages (from transformers==4.30.2) (6.0.1)\n",
      "Requirement already satisfied: regex!=2019.12.17 in /home/ubuntu/miniconda3/envs/hf/lib/python3.11/site-packages (from transformers==4.30.2) (2023.12.25)\n",
      "Requirement already satisfied: requests in /home/ubuntu/miniconda3/envs/hf/lib/python3.11/site-packages (from transformers==4.30.2) (2.31.0)\n",
      "Collecting tokenizers!=0.11.3,<0.14,>=0.11.1 (from transformers==4.30.2)\n",
      "  Downloading http://mirrors.tencentyun.com/pypi/packages/e9/d9/660f08ecd88bed54df9f85cab44e01184733c8e42d79b583fb985f1dc412/tokenizers-0.13.3-cp311-cp311-manylinux_2_17_x86_64.manylinux2014_x86_64.whl (7.8 MB)\n",
      "\u001b[2K     \u001b[90m━━━━━━━━━━━━━━━━━━━━━━━━━━━━━━━━━━━━━━━━\u001b[0m \u001b[32m7.8/7.8 MB\u001b[0m \u001b[31m7.0 MB/s\u001b[0m eta \u001b[36m0:00:00\u001b[0m00:01\u001b[0m00:01\u001b[0m0m\n",
      "\u001b[?25hRequirement already satisfied: safetensors>=0.3.1 in /home/ubuntu/miniconda3/envs/hf/lib/python3.11/site-packages (from transformers==4.30.2) (0.4.2)\n",
      "Requirement already satisfied: tqdm>=4.27 in /home/ubuntu/miniconda3/envs/hf/lib/python3.11/site-packages (from transformers==4.30.2) (4.66.1)\n",
      "Requirement already satisfied: aiofiles<24.0,>=22.0 in /home/ubuntu/miniconda3/envs/hf/lib/python3.11/site-packages (from gradio) (23.2.1)\n",
      "Requirement already satisfied: altair<6.0,>=4.2.0 in /home/ubuntu/miniconda3/envs/hf/lib/python3.11/site-packages (from gradio) (5.2.0)\n",
      "Requirement already satisfied: fastapi in /home/ubuntu/miniconda3/envs/hf/lib/python3.11/site-packages (from gradio) (0.109.0)\n",
      "Requirement already satisfied: ffmpy in /home/ubuntu/miniconda3/envs/hf/lib/python3.11/site-packages (from gradio) (0.3.1)\n",
      "Requirement already satisfied: gradio-client==0.8.1 in /home/ubuntu/miniconda3/envs/hf/lib/python3.11/site-packages (from gradio) (0.8.1)\n",
      "Requirement already satisfied: httpx in /home/ubuntu/miniconda3/envs/hf/lib/python3.11/site-packages (from gradio) (0.26.0)\n",
      "Requirement already satisfied: importlib-resources<7.0,>=1.3 in /home/ubuntu/miniconda3/envs/hf/lib/python3.11/site-packages (from gradio) (6.1.1)\n",
      "Requirement already satisfied: jinja2<4.0 in /home/ubuntu/miniconda3/envs/hf/lib/python3.11/site-packages (from gradio) (3.1.3)\n",
      "Requirement already satisfied: markupsafe~=2.0 in /home/ubuntu/miniconda3/envs/hf/lib/python3.11/site-packages (from gradio) (2.1.4)\n",
      "Requirement already satisfied: matplotlib~=3.0 in /home/ubuntu/miniconda3/envs/hf/lib/python3.11/site-packages (from gradio) (3.8.2)\n",
      "Requirement already satisfied: orjson~=3.0 in /home/ubuntu/miniconda3/envs/hf/lib/python3.11/site-packages (from gradio) (3.9.12)\n",
      "Requirement already satisfied: pandas<3.0,>=1.0 in /home/ubuntu/miniconda3/envs/hf/lib/python3.11/site-packages (from gradio) (2.2.0)\n",
      "Requirement already satisfied: pillow<11.0,>=8.0 in /home/ubuntu/miniconda3/envs/hf/lib/python3.11/site-packages (from gradio) (10.2.0)\n",
      "Requirement already satisfied: pydantic>=2.0 in /home/ubuntu/miniconda3/envs/hf/lib/python3.11/site-packages (from gradio) (2.5.3)\n",
      "Requirement already satisfied: pydub in /home/ubuntu/miniconda3/envs/hf/lib/python3.11/site-packages (from gradio) (0.25.1)\n",
      "Requirement already satisfied: python-multipart in /home/ubuntu/miniconda3/envs/hf/lib/python3.11/site-packages (from gradio) (0.0.6)\n",
      "Requirement already satisfied: ruff>=0.1.7 in /home/ubuntu/miniconda3/envs/hf/lib/python3.11/site-packages (from gradio) (0.1.14)\n",
      "Requirement already satisfied: semantic-version~=2.0 in /home/ubuntu/miniconda3/envs/hf/lib/python3.11/site-packages (from gradio) (2.10.0)\n",
      "Requirement already satisfied: tomlkit==0.12.0 in /home/ubuntu/miniconda3/envs/hf/lib/python3.11/site-packages (from gradio) (0.12.0)\n",
      "Requirement already satisfied: typer<1.0,>=0.9 in /home/ubuntu/miniconda3/envs/hf/lib/python3.11/site-packages (from typer[all]<1.0,>=0.9->gradio) (0.9.0)\n",
      "Requirement already satisfied: typing-extensions~=4.0 in /home/ubuntu/miniconda3/envs/hf/lib/python3.11/site-packages (from gradio) (4.9.0)\n",
      "Requirement already satisfied: uvicorn>=0.14.0 in /home/ubuntu/miniconda3/envs/hf/lib/python3.11/site-packages (from gradio) (0.27.0)\n",
      "Requirement already satisfied: fsspec in /home/ubuntu/miniconda3/envs/hf/lib/python3.11/site-packages (from gradio-client==0.8.1->gradio) (2023.10.0)\n",
      "Requirement already satisfied: websockets<12.0,>=10.0 in /home/ubuntu/miniconda3/envs/hf/lib/python3.11/site-packages (from gradio-client==0.8.1->gradio) (11.0.3)\n",
      "Collecting markdown (from mdtex2html)\n",
      "  Downloading http://mirrors.tencentyun.com/pypi/packages/42/f4/f0031854de10a0bc7821ef9fca0b92ca0d7aa6fbfbf504c5473ba825e49c/Markdown-3.5.2-py3-none-any.whl (103 kB)\n",
      "\u001b[2K     \u001b[90m━━━━━━━━━━━━━━━━━━━━━━━━━━━━━━━━━━━━━\u001b[0m \u001b[32m103.9/103.9 kB\u001b[0m \u001b[31m767.6 kB/s\u001b[0m eta \u001b[36m0:00:00\u001b[0ma \u001b[36m0:00:01\u001b[0m\n",
      "\u001b[?25hCollecting latex2mathml (from mdtex2html)\n",
      "  Downloading http://mirrors.tencentyun.com/pypi/packages/f2/0a/181ed55562ce90179aedf33b09fcd79db31c868a5d480f3cb71a31d19692/latex2mathml-3.77.0-py3-none-any.whl (73 kB)\n",
      "\u001b[2K     \u001b[90m━━━━━━━━━━━━━━━━━━━━━━━━━━━━━━━━━━━━━━━━\u001b[0m \u001b[32m73.7/73.7 kB\u001b[0m \u001b[31m1.0 MB/s\u001b[0m eta \u001b[36m0:00:00\u001b[0mta \u001b[36m0:00:01\u001b[0m\n",
      "\u001b[?25hRequirement already satisfied: psutil in /home/ubuntu/miniconda3/envs/hf/lib/python3.11/site-packages (from accelerate) (5.9.8)\n",
      "Requirement already satisfied: torch>=1.10.0 in /home/ubuntu/miniconda3/envs/hf/lib/python3.11/site-packages (from accelerate) (2.1.2)\n",
      "Requirement already satisfied: jsonschema>=3.0 in /home/ubuntu/miniconda3/envs/hf/lib/python3.11/site-packages (from altair<6.0,>=4.2.0->gradio) (4.21.1)\n",
      "Requirement already satisfied: toolz in /home/ubuntu/miniconda3/envs/hf/lib/python3.11/site-packages (from altair<6.0,>=4.2.0->gradio) (0.12.1)\n",
      "Requirement already satisfied: contourpy>=1.0.1 in /home/ubuntu/miniconda3/envs/hf/lib/python3.11/site-packages (from matplotlib~=3.0->gradio) (1.2.0)\n",
      "Requirement already satisfied: cycler>=0.10 in /home/ubuntu/miniconda3/envs/hf/lib/python3.11/site-packages (from matplotlib~=3.0->gradio) (0.12.1)\n",
      "Requirement already satisfied: fonttools>=4.22.0 in /home/ubuntu/miniconda3/envs/hf/lib/python3.11/site-packages (from matplotlib~=3.0->gradio) (4.47.2)\n",
      "Requirement already satisfied: kiwisolver>=1.3.1 in /home/ubuntu/miniconda3/envs/hf/lib/python3.11/site-packages (from matplotlib~=3.0->gradio) (1.4.5)\n",
      "Requirement already satisfied: pyparsing>=2.3.1 in /home/ubuntu/miniconda3/envs/hf/lib/python3.11/site-packages (from matplotlib~=3.0->gradio) (3.1.1)\n",
      "Requirement already satisfied: python-dateutil>=2.7 in /home/ubuntu/miniconda3/envs/hf/lib/python3.11/site-packages (from matplotlib~=3.0->gradio) (2.8.2)\n",
      "Requirement already satisfied: pytz>=2020.1 in /home/ubuntu/miniconda3/envs/hf/lib/python3.11/site-packages (from pandas<3.0,>=1.0->gradio) (2023.3.post1)\n",
      "Requirement already satisfied: tzdata>=2022.7 in /home/ubuntu/miniconda3/envs/hf/lib/python3.11/site-packages (from pandas<3.0,>=1.0->gradio) (2023.4)\n",
      "Requirement already satisfied: annotated-types>=0.4.0 in /home/ubuntu/miniconda3/envs/hf/lib/python3.11/site-packages (from pydantic>=2.0->gradio) (0.6.0)\n",
      "Requirement already satisfied: pydantic-core==2.14.6 in /home/ubuntu/miniconda3/envs/hf/lib/python3.11/site-packages (from pydantic>=2.0->gradio) (2.14.6)\n",
      "Requirement already satisfied: sympy in /home/ubuntu/miniconda3/envs/hf/lib/python3.11/site-packages (from torch>=1.10.0->accelerate) (1.12)\n",
      "Requirement already satisfied: networkx in /home/ubuntu/miniconda3/envs/hf/lib/python3.11/site-packages (from torch>=1.10.0->accelerate) (3.2.1)\n",
      "Requirement already satisfied: nvidia-cuda-nvrtc-cu12==12.1.105 in /home/ubuntu/miniconda3/envs/hf/lib/python3.11/site-packages (from torch>=1.10.0->accelerate) (12.1.105)\n",
      "Requirement already satisfied: nvidia-cuda-runtime-cu12==12.1.105 in /home/ubuntu/miniconda3/envs/hf/lib/python3.11/site-packages (from torch>=1.10.0->accelerate) (12.1.105)\n",
      "Requirement already satisfied: nvidia-cuda-cupti-cu12==12.1.105 in /home/ubuntu/miniconda3/envs/hf/lib/python3.11/site-packages (from torch>=1.10.0->accelerate) (12.1.105)\n",
      "Requirement already satisfied: nvidia-cudnn-cu12==8.9.2.26 in /home/ubuntu/miniconda3/envs/hf/lib/python3.11/site-packages (from torch>=1.10.0->accelerate) (8.9.2.26)\n",
      "Requirement already satisfied: nvidia-cublas-cu12==12.1.3.1 in /home/ubuntu/miniconda3/envs/hf/lib/python3.11/site-packages (from torch>=1.10.0->accelerate) (12.1.3.1)\n",
      "Requirement already satisfied: nvidia-cufft-cu12==11.0.2.54 in /home/ubuntu/miniconda3/envs/hf/lib/python3.11/site-packages (from torch>=1.10.0->accelerate) (11.0.2.54)\n",
      "Requirement already satisfied: nvidia-curand-cu12==10.3.2.106 in /home/ubuntu/miniconda3/envs/hf/lib/python3.11/site-packages (from torch>=1.10.0->accelerate) (10.3.2.106)\n",
      "Requirement already satisfied: nvidia-cusolver-cu12==11.4.5.107 in /home/ubuntu/miniconda3/envs/hf/lib/python3.11/site-packages (from torch>=1.10.0->accelerate) (11.4.5.107)\n",
      "Requirement already satisfied: nvidia-cusparse-cu12==12.1.0.106 in /home/ubuntu/miniconda3/envs/hf/lib/python3.11/site-packages (from torch>=1.10.0->accelerate) (12.1.0.106)\n",
      "Requirement already satisfied: nvidia-nccl-cu12==2.18.1 in /home/ubuntu/miniconda3/envs/hf/lib/python3.11/site-packages (from torch>=1.10.0->accelerate) (2.18.1)\n",
      "Requirement already satisfied: nvidia-nvtx-cu12==12.1.105 in /home/ubuntu/miniconda3/envs/hf/lib/python3.11/site-packages (from torch>=1.10.0->accelerate) (12.1.105)\n",
      "Requirement already satisfied: triton==2.1.0 in /home/ubuntu/miniconda3/envs/hf/lib/python3.11/site-packages (from torch>=1.10.0->accelerate) (2.1.0)\n",
      "Requirement already satisfied: nvidia-nvjitlink-cu12 in /home/ubuntu/miniconda3/envs/hf/lib/python3.11/site-packages (from nvidia-cusolver-cu12==11.4.5.107->torch>=1.10.0->accelerate) (12.3.101)\n",
      "Requirement already satisfied: click<9.0.0,>=7.1.1 in /home/ubuntu/miniconda3/envs/hf/lib/python3.11/site-packages (from typer<1.0,>=0.9->typer[all]<1.0,>=0.9->gradio) (8.1.7)\n",
      "Requirement already satisfied: colorama<0.5.0,>=0.4.3 in /home/ubuntu/miniconda3/envs/hf/lib/python3.11/site-packages (from typer[all]<1.0,>=0.9->gradio) (0.4.6)\n",
      "Requirement already satisfied: shellingham<2.0.0,>=1.3.0 in /home/ubuntu/miniconda3/envs/hf/lib/python3.11/site-packages (from typer[all]<1.0,>=0.9->gradio) (1.5.4)\n",
      "Requirement already satisfied: rich<14.0.0,>=10.11.0 in /home/ubuntu/miniconda3/envs/hf/lib/python3.11/site-packages (from typer[all]<1.0,>=0.9->gradio) (13.7.0)\n",
      "Requirement already satisfied: h11>=0.8 in /home/ubuntu/miniconda3/envs/hf/lib/python3.11/site-packages (from uvicorn>=0.14.0->gradio) (0.14.0)\n",
      "Requirement already satisfied: starlette<0.36.0,>=0.35.0 in /home/ubuntu/miniconda3/envs/hf/lib/python3.11/site-packages (from fastapi->gradio) (0.35.1)\n",
      "Requirement already satisfied: anyio in /home/ubuntu/miniconda3/envs/hf/lib/python3.11/site-packages (from httpx->gradio) (4.2.0)\n",
      "Requirement already satisfied: certifi in /home/ubuntu/miniconda3/envs/hf/lib/python3.11/site-packages (from httpx->gradio) (2023.11.17)\n",
      "Requirement already satisfied: httpcore==1.* in /home/ubuntu/miniconda3/envs/hf/lib/python3.11/site-packages (from httpx->gradio) (1.0.2)\n",
      "Requirement already satisfied: idna in /home/ubuntu/miniconda3/envs/hf/lib/python3.11/site-packages (from httpx->gradio) (3.6)\n",
      "Requirement already satisfied: sniffio in /home/ubuntu/miniconda3/envs/hf/lib/python3.11/site-packages (from httpx->gradio) (1.3.0)\n",
      "Requirement already satisfied: charset-normalizer<4,>=2 in /home/ubuntu/miniconda3/envs/hf/lib/python3.11/site-packages (from requests->transformers==4.30.2) (3.3.2)\n",
      "Requirement already satisfied: urllib3<3,>=1.21.1 in /home/ubuntu/miniconda3/envs/hf/lib/python3.11/site-packages (from requests->transformers==4.30.2) (2.1.0)\n",
      "Requirement already satisfied: attrs>=22.2.0 in /home/ubuntu/miniconda3/envs/hf/lib/python3.11/site-packages (from jsonschema>=3.0->altair<6.0,>=4.2.0->gradio) (23.2.0)\n",
      "Requirement already satisfied: jsonschema-specifications>=2023.03.6 in /home/ubuntu/miniconda3/envs/hf/lib/python3.11/site-packages (from jsonschema>=3.0->altair<6.0,>=4.2.0->gradio) (2023.12.1)\n",
      "Requirement already satisfied: referencing>=0.28.4 in /home/ubuntu/miniconda3/envs/hf/lib/python3.11/site-packages (from jsonschema>=3.0->altair<6.0,>=4.2.0->gradio) (0.32.1)\n",
      "Requirement already satisfied: rpds-py>=0.7.1 in /home/ubuntu/miniconda3/envs/hf/lib/python3.11/site-packages (from jsonschema>=3.0->altair<6.0,>=4.2.0->gradio) (0.17.1)\n",
      "Requirement already satisfied: six>=1.5 in /home/ubuntu/miniconda3/envs/hf/lib/python3.11/site-packages (from python-dateutil>=2.7->matplotlib~=3.0->gradio) (1.16.0)\n",
      "Requirement already satisfied: markdown-it-py>=2.2.0 in /home/ubuntu/miniconda3/envs/hf/lib/python3.11/site-packages (from rich<14.0.0,>=10.11.0->typer[all]<1.0,>=0.9->gradio) (3.0.0)\n",
      "Requirement already satisfied: pygments<3.0.0,>=2.13.0 in /home/ubuntu/miniconda3/envs/hf/lib/python3.11/site-packages (from rich<14.0.0,>=10.11.0->typer[all]<1.0,>=0.9->gradio) (2.17.2)\n",
      "Requirement already satisfied: mpmath>=0.19 in /home/ubuntu/miniconda3/envs/hf/lib/python3.11/site-packages (from sympy->torch>=1.10.0->accelerate) (1.3.0)\n",
      "Requirement already satisfied: mdurl~=0.1 in /home/ubuntu/miniconda3/envs/hf/lib/python3.11/site-packages (from markdown-it-py>=2.2.0->rich<14.0.0,>=10.11.0->typer[all]<1.0,>=0.9->gradio) (0.1.2)\n",
      "Installing collected packages: tokenizers, cpm_kernels, markdown, latex2mathml, mdtex2html, transformers\n",
      "  Attempting uninstall: tokenizers\n",
      "    Found existing installation: tokenizers 0.15.1\n",
      "    Uninstalling tokenizers-0.15.1:\n",
      "      Successfully uninstalled tokenizers-0.15.1\n",
      "  Attempting uninstall: transformers\n",
      "    Found existing installation: transformers 4.37.1\n",
      "    Uninstalling transformers-4.37.1:\n",
      "      Successfully uninstalled transformers-4.37.1\n",
      "\u001b[31mERROR: pip's dependency resolver does not currently take into account all the packages that are installed. This behaviour is the source of the following dependency conflicts.\n",
      "trl 0.7.10 requires transformers>=4.31.0, but you have transformers 4.30.2 which is incompatible.\n",
      "auto-gptq 0.6.0 requires transformers>=4.31.0, but you have transformers 4.30.2 which is incompatible.\n",
      "autoawq 0.1.8 requires transformers>=4.35.0, but you have transformers 4.30.2 which is incompatible.\u001b[0m\u001b[31m\n",
      "\u001b[0mSuccessfully installed cpm_kernels-1.0.11 latex2mathml-3.77.0 markdown-3.5.2 mdtex2html-1.3.0 tokenizers-0.13.3 transformers-4.30.2\n",
      "Looking in indexes: http://mirrors.tencentyun.com/pypi/simple\n",
      "Requirement already satisfied: torch in /home/ubuntu/miniconda3/envs/hf/lib/python3.11/site-packages (2.1.2)\n",
      "Collecting torch\n",
      "  Downloading http://mirrors.tencentyun.com/pypi/packages/2c/df/5810707da6f2fd4be57f0cc417987c0fa16a2eecf0b1b71f82ea555dc619/torch-2.2.1-cp311-cp311-manylinux1_x86_64.whl (755.6 MB)\n",
      "\u001b[2K     \u001b[90m━━━━━━━━━━━━━━━━━━━━━━━━━━━━━━━━━━━━━━━\u001b[0m \u001b[32m755.6/755.6 MB\u001b[0m \u001b[31m3.2 MB/s\u001b[0m eta \u001b[36m0:00:00\u001b[0m00:01\u001b[0m00:03\u001b[0m\n",
      "\u001b[?25hRequirement already satisfied: filelock in /home/ubuntu/miniconda3/envs/hf/lib/python3.11/site-packages (from torch) (3.13.1)\n",
      "Requirement already satisfied: typing-extensions>=4.8.0 in /home/ubuntu/miniconda3/envs/hf/lib/python3.11/site-packages (from torch) (4.9.0)\n",
      "Requirement already satisfied: sympy in /home/ubuntu/miniconda3/envs/hf/lib/python3.11/site-packages (from torch) (1.12)\n",
      "Requirement already satisfied: networkx in /home/ubuntu/miniconda3/envs/hf/lib/python3.11/site-packages (from torch) (3.2.1)\n",
      "Requirement already satisfied: jinja2 in /home/ubuntu/miniconda3/envs/hf/lib/python3.11/site-packages (from torch) (3.1.3)\n",
      "Requirement already satisfied: fsspec in /home/ubuntu/miniconda3/envs/hf/lib/python3.11/site-packages (from torch) (2023.10.0)\n",
      "Requirement already satisfied: nvidia-cuda-nvrtc-cu12==12.1.105 in /home/ubuntu/miniconda3/envs/hf/lib/python3.11/site-packages (from torch) (12.1.105)\n",
      "Requirement already satisfied: nvidia-cuda-runtime-cu12==12.1.105 in /home/ubuntu/miniconda3/envs/hf/lib/python3.11/site-packages (from torch) (12.1.105)\n",
      "Requirement already satisfied: nvidia-cuda-cupti-cu12==12.1.105 in /home/ubuntu/miniconda3/envs/hf/lib/python3.11/site-packages (from torch) (12.1.105)\n",
      "Requirement already satisfied: nvidia-cudnn-cu12==8.9.2.26 in /home/ubuntu/miniconda3/envs/hf/lib/python3.11/site-packages (from torch) (8.9.2.26)\n",
      "Requirement already satisfied: nvidia-cublas-cu12==12.1.3.1 in /home/ubuntu/miniconda3/envs/hf/lib/python3.11/site-packages (from torch) (12.1.3.1)\n",
      "Requirement already satisfied: nvidia-cufft-cu12==11.0.2.54 in /home/ubuntu/miniconda3/envs/hf/lib/python3.11/site-packages (from torch) (11.0.2.54)\n",
      "Requirement already satisfied: nvidia-curand-cu12==10.3.2.106 in /home/ubuntu/miniconda3/envs/hf/lib/python3.11/site-packages (from torch) (10.3.2.106)\n",
      "Requirement already satisfied: nvidia-cusolver-cu12==11.4.5.107 in /home/ubuntu/miniconda3/envs/hf/lib/python3.11/site-packages (from torch) (11.4.5.107)\n",
      "Requirement already satisfied: nvidia-cusparse-cu12==12.1.0.106 in /home/ubuntu/miniconda3/envs/hf/lib/python3.11/site-packages (from torch) (12.1.0.106)\n",
      "Collecting nvidia-nccl-cu12==2.19.3 (from torch)\n",
      "  Downloading http://mirrors.tencentyun.com/pypi/packages/38/00/d0d4e48aef772ad5aebcf70b73028f88db6e5640b36c38e90445b7a57c45/nvidia_nccl_cu12-2.19.3-py3-none-manylinux1_x86_64.whl (166.0 MB)\n",
      "\u001b[2K     \u001b[90m━━━━━━━━━━━━━━━━━━━━━━━━━━━━━━━━━━━━━━━\u001b[0m \u001b[32m166.0/166.0 MB\u001b[0m \u001b[31m8.6 MB/s\u001b[0m eta \u001b[36m0:00:00\u001b[0m00:01\u001b[0m00:01\u001b[0m\n",
      "\u001b[?25hRequirement already satisfied: nvidia-nvtx-cu12==12.1.105 in /home/ubuntu/miniconda3/envs/hf/lib/python3.11/site-packages (from torch) (12.1.105)\n",
      "Collecting triton==2.2.0 (from torch)\n",
      "  Downloading http://mirrors.tencentyun.com/pypi/packages/bd/ac/3974caaa459bf2c3a244a84be8d17561f631f7d42af370fc311defeca2fb/triton-2.2.0-cp311-cp311-manylinux_2_17_x86_64.manylinux2014_x86_64.whl (167.9 MB)\n",
      "\u001b[2K     \u001b[90m━━━━━━━━━━━━━━━━━━━━━━━━━━━━━━━━━━━━━━━\u001b[0m \u001b[32m167.9/167.9 MB\u001b[0m \u001b[31m7.3 MB/s\u001b[0m eta \u001b[36m0:00:00\u001b[0m00:01\u001b[0m00:01\u001b[0m\n",
      "\u001b[?25hRequirement already satisfied: nvidia-nvjitlink-cu12 in /home/ubuntu/miniconda3/envs/hf/lib/python3.11/site-packages (from nvidia-cusolver-cu12==11.4.5.107->torch) (12.3.101)\n",
      "Requirement already satisfied: MarkupSafe>=2.0 in /home/ubuntu/miniconda3/envs/hf/lib/python3.11/site-packages (from jinja2->torch) (2.1.4)\n",
      "Requirement already satisfied: mpmath>=0.19 in /home/ubuntu/miniconda3/envs/hf/lib/python3.11/site-packages (from sympy->torch) (1.3.0)\n",
      "Installing collected packages: triton, nvidia-nccl-cu12, torch\n",
      "  Attempting uninstall: triton\n",
      "    Found existing installation: triton 2.1.0\n",
      "    Uninstalling triton-2.1.0:\n",
      "      Successfully uninstalled triton-2.1.0\n",
      "  Attempting uninstall: nvidia-nccl-cu12\n",
      "    Found existing installation: nvidia-nccl-cu12 2.18.1\n",
      "    Uninstalling nvidia-nccl-cu12-2.18.1:\n",
      "      Successfully uninstalled nvidia-nccl-cu12-2.18.1\n",
      "  Attempting uninstall: torch\n",
      "    Found existing installation: torch 2.1.2\n",
      "    Uninstalling torch-2.1.2:\n",
      "      Successfully uninstalled torch-2.1.2\n",
      "\u001b[31mERROR: pip's dependency resolver does not currently take into account all the packages that are installed. This behaviour is the source of the following dependency conflicts.\n",
      "trl 0.7.10 requires transformers>=4.31.0, but you have transformers 4.30.2 which is incompatible.\n",
      "auto-gptq 0.6.0 requires transformers>=4.31.0, but you have transformers 4.30.2 which is incompatible.\n",
      "torchvision 0.16.2 requires torch==2.1.2, but you have torch 2.2.1 which is incompatible.\n",
      "autoawq 0.1.8 requires transformers>=4.35.0, but you have transformers 4.30.2 which is incompatible.\u001b[0m\u001b[31m\n",
      "\u001b[0mSuccessfully installed nvidia-nccl-cu12-2.19.3 torch-2.2.1 triton-2.2.0\n"
     ]
    }
   ],
   "source": [
    "!pip install protobuf transformers==4.30.2 cpm_kernels gradio mdtex2html sentencepiece accelerate\n",
    "!pip install -U torch"
   ]
  },
  {
   "cell_type": "code",
   "execution_count": 2,
   "id": "90dcc2cd-8960-4982-8565-5c0f82dd7889",
   "metadata": {},
   "outputs": [
    {
     "data": {
      "application/vnd.jupyter.widget-view+json": {
       "model_id": "a9088fb71046433eb3add4a6ce95c527",
       "version_major": 2,
       "version_minor": 0
      },
      "text/plain": [
       "tokenizer_config.json:   0%|          | 0.00/1.41k [00:00<?, ?B/s]"
      ]
     },
     "metadata": {},
     "output_type": "display_data"
    },
    {
     "data": {
      "application/vnd.jupyter.widget-view+json": {
       "model_id": "0c4a7fbac3604336a1b2212d597379ee",
       "version_major": 2,
       "version_minor": 0
      },
      "text/plain": [
       "tokenization_chatglm.py:   0%|          | 0.00/13.0k [00:00<?, ?B/s]"
      ]
     },
     "metadata": {},
     "output_type": "display_data"
    },
    {
     "name": "stderr",
     "output_type": "stream",
     "text": [
      "A new version of the following files was downloaded from https://huggingface.co/THUDM/chatglm3-6b:\n",
      "- tokenization_chatglm.py\n",
      ". Make sure to double-check they do not contain any added malicious code. To avoid downloading new versions of the code file, you can pin a revision.\n"
     ]
    },
    {
     "data": {
      "application/vnd.jupyter.widget-view+json": {
       "model_id": "a2558e67e82a42fe9d116fcbc7dd00d5",
       "version_major": 2,
       "version_minor": 0
      },
      "text/plain": [
       "tokenizer.model:   0%|          | 0.00/1.02M [00:00<?, ?B/s]"
      ]
     },
     "metadata": {},
     "output_type": "display_data"
    },
    {
     "data": {
      "application/vnd.jupyter.widget-view+json": {
       "model_id": "2319e5977d8d410282e3d16d4260df3a",
       "version_major": 2,
       "version_minor": 0
      },
      "text/plain": [
       "special_tokens_map.json:   0%|          | 0.00/3.00 [00:00<?, ?B/s]"
      ]
     },
     "metadata": {},
     "output_type": "display_data"
    },
    {
     "name": "stderr",
     "output_type": "stream",
     "text": [
      "Setting eos_token is not supported, use the default one.\n",
      "Setting pad_token is not supported, use the default one.\n",
      "Setting unk_token is not supported, use the default one.\n"
     ]
    },
    {
     "data": {
      "application/vnd.jupyter.widget-view+json": {
       "model_id": "ca36fb59bdb04b4d9f2b6d71662cb202",
       "version_major": 2,
       "version_minor": 0
      },
      "text/plain": [
       "config.json:   0%|          | 0.00/1.32k [00:00<?, ?B/s]"
      ]
     },
     "metadata": {},
     "output_type": "display_data"
    },
    {
     "data": {
      "application/vnd.jupyter.widget-view+json": {
       "model_id": "f586a2cc2acb4448bbc6383382529d27",
       "version_major": 2,
       "version_minor": 0
      },
      "text/plain": [
       "configuration_chatglm.py:   0%|          | 0.00/2.33k [00:00<?, ?B/s]"
      ]
     },
     "metadata": {},
     "output_type": "display_data"
    },
    {
     "name": "stderr",
     "output_type": "stream",
     "text": [
      "A new version of the following files was downloaded from https://huggingface.co/THUDM/chatglm3-6b:\n",
      "- configuration_chatglm.py\n",
      ". Make sure to double-check they do not contain any added malicious code. To avoid downloading new versions of the code file, you can pin a revision.\n"
     ]
    },
    {
     "data": {
      "application/vnd.jupyter.widget-view+json": {
       "model_id": "eac66da0804b494c8b497798d7de3e06",
       "version_major": 2,
       "version_minor": 0
      },
      "text/plain": [
       "modeling_chatglm.py:   0%|          | 0.00/55.9k [00:00<?, ?B/s]"
      ]
     },
     "metadata": {},
     "output_type": "display_data"
    },
    {
     "data": {
      "application/vnd.jupyter.widget-view+json": {
       "model_id": "cbb2f2f0f5f8464eaba1b85a25725d96",
       "version_major": 2,
       "version_minor": 0
      },
      "text/plain": [
       "quantization.py:   0%|          | 0.00/14.7k [00:00<?, ?B/s]"
      ]
     },
     "metadata": {},
     "output_type": "display_data"
    },
    {
     "name": "stderr",
     "output_type": "stream",
     "text": [
      "A new version of the following files was downloaded from https://huggingface.co/THUDM/chatglm3-6b:\n",
      "- quantization.py\n",
      ". Make sure to double-check they do not contain any added malicious code. To avoid downloading new versions of the code file, you can pin a revision.\n",
      "A new version of the following files was downloaded from https://huggingface.co/THUDM/chatglm3-6b:\n",
      "- modeling_chatglm.py\n",
      "- quantization.py\n",
      ". Make sure to double-check they do not contain any added malicious code. To avoid downloading new versions of the code file, you can pin a revision.\n"
     ]
    },
    {
     "data": {
      "application/vnd.jupyter.widget-view+json": {
       "model_id": "7013f62e781f4eb0b5e3b4e780078afa",
       "version_major": 2,
       "version_minor": 0
      },
      "text/plain": [
       "model.safetensors.index.json:   0%|          | 0.00/21.2k [00:00<?, ?B/s]"
      ]
     },
     "metadata": {},
     "output_type": "display_data"
    },
    {
     "data": {
      "application/vnd.jupyter.widget-view+json": {
       "model_id": "7736eb427f2b4e1db89360f90d59e1b2",
       "version_major": 2,
       "version_minor": 0
      },
      "text/plain": [
       "Downloading shards:   0%|          | 0/7 [00:00<?, ?it/s]"
      ]
     },
     "metadata": {},
     "output_type": "display_data"
    },
    {
     "data": {
      "application/vnd.jupyter.widget-view+json": {
       "model_id": "935f6c4e73ec4798a8c0e4031ce31150",
       "version_major": 2,
       "version_minor": 0
      },
      "text/plain": [
       "model-00001-of-00007.safetensors:   0%|          | 0.00/1.83G [00:00<?, ?B/s]"
      ]
     },
     "metadata": {},
     "output_type": "display_data"
    },
    {
     "data": {
      "application/vnd.jupyter.widget-view+json": {
       "model_id": "3317e3ecf3054d01b30c996c85e58283",
       "version_major": 2,
       "version_minor": 0
      },
      "text/plain": [
       "model-00002-of-00007.safetensors:   0%|          | 0.00/1.97G [00:00<?, ?B/s]"
      ]
     },
     "metadata": {},
     "output_type": "display_data"
    },
    {
     "data": {
      "application/vnd.jupyter.widget-view+json": {
       "model_id": "601dca6219854d3fb71f1fd2b1563766",
       "version_major": 2,
       "version_minor": 0
      },
      "text/plain": [
       "model-00003-of-00007.safetensors:   0%|          | 0.00/1.93G [00:00<?, ?B/s]"
      ]
     },
     "metadata": {},
     "output_type": "display_data"
    },
    {
     "data": {
      "application/vnd.jupyter.widget-view+json": {
       "model_id": "bf0c3a7aec8c432ea21caa24dc3ffbe6",
       "version_major": 2,
       "version_minor": 0
      },
      "text/plain": [
       "model-00004-of-00007.safetensors:   0%|          | 0.00/1.82G [00:00<?, ?B/s]"
      ]
     },
     "metadata": {},
     "output_type": "display_data"
    },
    {
     "data": {
      "application/vnd.jupyter.widget-view+json": {
       "model_id": "3040ce52c05349169bbdf10eea22fe01",
       "version_major": 2,
       "version_minor": 0
      },
      "text/plain": [
       "model-00005-of-00007.safetensors:   0%|          | 0.00/1.97G [00:00<?, ?B/s]"
      ]
     },
     "metadata": {},
     "output_type": "display_data"
    },
    {
     "data": {
      "application/vnd.jupyter.widget-view+json": {
       "model_id": "18bc127aa6b842f3a4e027abf16b625d",
       "version_major": 2,
       "version_minor": 0
      },
      "text/plain": [
       "model-00006-of-00007.safetensors:   0%|          | 0.00/1.93G [00:00<?, ?B/s]"
      ]
     },
     "metadata": {},
     "output_type": "display_data"
    },
    {
     "data": {
      "application/vnd.jupyter.widget-view+json": {
       "model_id": "b2e4c0e5a0cd494db7dd1a85d9bf981f",
       "version_major": 2,
       "version_minor": 0
      },
      "text/plain": [
       "model-00007-of-00007.safetensors:   0%|          | 0.00/1.05G [00:00<?, ?B/s]"
      ]
     },
     "metadata": {},
     "output_type": "display_data"
    },
    {
     "data": {
      "application/vnd.jupyter.widget-view+json": {
       "model_id": "9b3b61f7473640cf9b1faebb77a27724",
       "version_major": 2,
       "version_minor": 0
      },
      "text/plain": [
       "Loading checkpoint shards:   0%|          | 0/7 [00:00<?, ?it/s]"
      ]
     },
     "metadata": {},
     "output_type": "display_data"
    }
   ],
   "source": [
    "from transformers import AutoTokenizer, AutoModel\n",
    "tokenizer = AutoTokenizer.from_pretrained(\"THUDM/chatglm3-6b\", trust_remote_code=True)\n",
    "model = AutoModel.from_pretrained(\"THUDM/chatglm3-6b\", trust_remote_code=True).half().cuda()"
   ]
  },
  {
   "cell_type": "code",
   "execution_count": null,
   "id": "3b00a441-c27e-4d55-923b-02ce6deca3bd",
   "metadata": {},
   "outputs": [],
   "source": []
  },
  {
   "cell_type": "code",
   "execution_count": 4,
   "id": "8471cf60-7ddb-46e2-9701-93b8db6e63e7",
   "metadata": {},
   "outputs": [
    {
     "name": "stdout",
     "output_type": "stream",
     "text": [
      "你好👋！我是人工智能助手 ChatGLM3-6B，很高兴见到你，欢迎问我任何问题。\n",
      "想要学习好，可以尝试以下方法：\n",
      "\n",
      "1. 设定目标：明确你想要学习的内容和目标，这有助于你保持学习动力。\n",
      "\n",
      "2. 制定计划：合理安排学习时间，确保每天都有一定的学习时间，并遵循计划进行。\n",
      "\n",
      "3. 专注学习：在学习过程中，尽量保持专注，避免让外界因素干扰你。\n",
      "\n",
      "4. 主动思考：学习过程中要主动思考，尝试理解、应用所学知识，并主动解决遇到的问题。\n",
      "\n",
      "5. 及时复习：学习新知识的同时，要定期复习已学知识，以巩固记忆。\n",
      "\n",
      "6. 多样化学习：尝试不同的学习方法和途径，如阅读、听课、观看视频等，找到最适合你的学习方式。\n",
      "\n",
      "7. 保持耐心：学习是一个长期的过程，要保持耐心和毅力，不要轻易放弃。\n",
      "\n",
      "8. 交流与分享：与同学、老师或家人交流学习心得，分享学习经验，有助于提高学习效果。\n",
      "\n",
      "9. 调整心态：保持积极、乐观的心态，相信自己可以不断进步。\n",
      "\n",
      "10. 适度休息：学习之余，要适当休息和放松，以保持良好的精神状态。\n",
      "\n",
      "希望以上建议对你有所帮助，如果你有其他问题，欢迎继续提问。\n"
     ]
    }
   ],
   "source": [
    "model = model.eval()\n",
    "response, history = model.chat(tokenizer, \"你好\", history=[])\n",
    "print(response)\n",
    "response, history = model.chat(tokenizer, \"想要学习好怎么办\", history=history)\n",
    "print(response)"
   ]
  },
  {
   "cell_type": "code",
   "execution_count": null,
   "id": "e7189aa0-972b-4ca7-8e93-7cf1664b72d1",
   "metadata": {},
   "outputs": [],
   "source": []
  }
 ],
 "metadata": {
  "kernelspec": {
   "display_name": "Python 3 (ipykernel)",
   "language": "python",
   "name": "python3"
  },
  "language_info": {
   "codemirror_mode": {
    "name": "ipython",
    "version": 3
   },
   "file_extension": ".py",
   "mimetype": "text/x-python",
   "name": "python",
   "nbconvert_exporter": "python",
   "pygments_lexer": "ipython3",
   "version": "3.11.7"
  }
 },
 "nbformat": 4,
 "nbformat_minor": 5
}
